{
 "cells": [
  {
   "cell_type": "code",
   "execution_count": 3,
   "metadata": {},
   "outputs": [],
   "source": [
    "import requests\n",
    "import pandas as pd\n",
    "\n",
    "# Overpass API URL\n",
    "OVERPASS_URL = \"http://overpass-api.de/api/interpreter\"\n",
    "\n",
    "# Function to fetch data from Overpass API\n",
    "def fetch_overpass_data(query):\n",
    "    try:\n",
    "        response = requests.get(OVERPASS_URL, params={'data': query})\n",
    "        response.raise_for_status()\n",
    "        return response.json()\n",
    "    except requests.RequestException as e:\n",
    "        print(f\"Error fetching data: {e}\")\n",
    "        return None\n",
    "\n",
    "# Function to process OSM elements into a DataFrame\n",
    "def process_elements(elements):\n",
    "    data = []\n",
    "    for elem in elements:\n",
    "        # Extracting common details (id, lat, lon, name)\n",
    "        details = {\n",
    "            'id': elem.get('id'),\n",
    "            'lat': elem.get('lat'),\n",
    "            'lon': elem.get('lon'),\n",
    "            'name': elem.get('tags', {}).get('name', 'Unknown')\n",
    "        }\n",
    "        # Add more tags here if needed\n",
    "        data.append(details)\n",
    "    return pd.DataFrame(data)\n",
    "\n",
    "# Queries for different POI types\n",
    "queries = {\n",
    "    'parks': 'nwr[\"leisure\"=\"park\"](bbox);',\n",
    "    'playgrounds': 'nwr[\"leisure\"=\"playground\"](bbox);',\n",
    "    'supermarkets': 'nwr[\"shop\"=\"supermarket\"](bbox);'\n",
    "}\n",
    "\n",
    "# Replace bbox with the bounding box of your area of interest, format: south,west,north,east\n",
    "bbox = \"53.389881, -113.724292, 53.646266, -113.081592\"  # Example bbox, replace with your area\n",
    "\n",
    "# Fetch and process data\n",
    "all_data = {}\n",
    "for poi_type, query in queries.items():\n",
    "    full_query = f'[out:json];{query.replace(\"bbox\", bbox)}out;'\n",
    "    data = fetch_overpass_data(full_query)\n",
    "    if data:\n",
    "        elements = data.get('elements', [])\n",
    "        df = process_elements(elements)\n",
    "        all_data[poi_type] = df\n",
    "\n",
    "        # Save each POI type to a CSV file\n",
    "        df.to_csv(f'{poi_type}.csv', index=False)\n",
    "    else:\n",
    "        print(f\"Failed to fetch data for {poi_type}\")"
   ]
  },
  {
   "cell_type": "code",
   "execution_count": 4,
   "metadata": {},
   "outputs": [
    {
     "ename": "ModuleNotFoundError",
     "evalue": "No module named 'leafmap'",
     "output_type": "error",
     "traceback": [
      "\u001b[1;31m---------------------------------------------------------------------------\u001b[0m",
      "\u001b[1;31mModuleNotFoundError\u001b[0m                       Traceback (most recent call last)",
      "Cell \u001b[1;32mIn[4], line 1\u001b[0m\n\u001b[1;32m----> 1\u001b[0m \u001b[38;5;28;01mimport\u001b[39;00m \u001b[38;5;21;01mleafmap\u001b[39;00m\n",
      "\u001b[1;31mModuleNotFoundError\u001b[0m: No module named 'leafmap'"
     ]
    }
   ],
   "source": [
    "import leafmap"
   ]
  },
  {
   "cell_type": "code",
   "execution_count": null,
   "metadata": {},
   "outputs": [],
   "source": [
    "\n"
   ]
  }
 ],
 "metadata": {
  "kernelspec": {
   "display_name": ".venv",
   "language": "python",
   "name": "python3"
  },
  "language_info": {
   "codemirror_mode": {
    "name": "ipython",
    "version": 3
   },
   "file_extension": ".py",
   "mimetype": "text/x-python",
   "name": "python",
   "nbconvert_exporter": "python",
   "pygments_lexer": "ipython3",
   "version": "3.10.11"
  }
 },
 "nbformat": 4,
 "nbformat_minor": 2
}
